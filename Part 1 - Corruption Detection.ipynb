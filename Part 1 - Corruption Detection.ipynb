{
 "cells": [
  {
   "cell_type": "code",
   "execution_count": null,
   "id": "ab4e712c-1576-4508-b633-c98b0915c21b",
   "metadata": {
    "executionInfo": {
     "elapsed": 50124,
     "status": "ok",
     "timestamp": 1733251899986,
     "user": {
      "displayName": "Smeet Yogesh Dedhia",
      "userId": "05149737388041637661"
     },
     "user_tz": 480
    },
    "id": "ab4e712c-1576-4508-b633-c98b0915c21b"
   },
   "outputs": [],
   "source": [
    "import numpy as np\n",
    "import pandas as pd\n",
    "from datasets import Dataset, load_from_disk\n",
    "from transformers import AutoModelForSequenceClassification, Trainer, TrainingArguments\n",
    "import torch\n",
    "from torch.utils.data import DataLoader\n",
    "import torch.nn as nn\n",
    "from torch.optim import AdamW\n",
    "from sklearn.metrics import accuracy_score, precision_recall_fscore_support"
   ]
  },
  {
   "cell_type": "markdown",
   "id": "055ec426-6c5f-4e95-9f52-af97acc1799b",
   "metadata": {},
   "source": [
    "### Loading Datasets"
   ]
  },
  {
   "cell_type": "code",
   "execution_count": 70,
   "id": "11986750-ae0f-4ddb-84d5-63a1b211080e",
   "metadata": {},
   "outputs": [],
   "source": [
    "final_train_dataset = load_from_disk(\"final_train_dataset\")\n",
    "train_dataset = final_train_dataset.remove_columns([\"Sentence_A\", \"Sentence_B\",\"embeddings_B\", \"embeddings_A\"])"
   ]
  },
  {
   "cell_type": "code",
   "execution_count": 71,
   "id": "bcc8b7a3-6cc7-4265-b961-2358cdf5d976",
   "metadata": {},
   "outputs": [],
   "source": [
    "train_dataset = train_dataset.train_test_split(test_size=0.1)['train']\n",
    "val_dataset = train_dataset.train_test_split(test_size=0.1)['test']"
   ]
  },
  {
   "cell_type": "code",
   "execution_count": 111,
   "id": "76ae6b69-e2f6-41ab-b38b-ceb123fd19cb",
   "metadata": {},
   "outputs": [],
   "source": [
    "final_test_dataset = load_from_disk(\"final_test_dataset\")\n",
    "test_dataset = final_test_dataset.remove_columns([\"Sentence_A\", \"Sentence_B\",\"embeddings_B\", \"embeddings_A\"])"
   ]
  },
  {
   "cell_type": "code",
   "execution_count": 73,
   "id": "4TvW134gsKL2",
   "metadata": {
    "id": "4TvW134gsKL2"
   },
   "outputs": [],
   "source": [
    "class PrecomputedDifferenceDataset(torch.utils.data.Dataset):\n",
    "    def __init__(self, dataset):\n",
    "        self.differences = dataset[\"difference\"]\n",
    "        self.labels = dataset[\"labels\"]\n",
    "\n",
    "    def __len__(self):\n",
    "        return len(self.labels)\n",
    "\n",
    "    def __getitem__(self, idx):\n",
    "        return {\n",
    "            \"difference\": torch.tensor(self.differences[idx], dtype=torch.float32),\n",
    "            \"labels\": torch.tensor(self.labels[idx], dtype=torch.long),\n",
    "        }\n",
    "        \n",
    "class PrecomputedTestDifferenceDataset(torch.utils.data.Dataset):\n",
    "    def __init__(self, dataset):\n",
    "        self.differences = dataset[\"difference\"]\n",
    "\n",
    "    def __len__(self):\n",
    "        return len(self.differences)\n",
    "\n",
    "    def __getitem__(self, idx):\n",
    "        return {\n",
    "            \"difference\": torch.tensor(self.differences[idx], dtype=torch.float32),\n",
    "        }"
   ]
  },
  {
   "cell_type": "code",
   "execution_count": 112,
   "id": "15e45816-b1db-479c-963f-7c4087777b9e",
   "metadata": {},
   "outputs": [],
   "source": [
    "train_dataset = PrecomputedDifferenceDataset(train_dataset)\n",
    "train_dataloader = DataLoader(train_dataset, batch_size=16, shuffle=True)\n",
    "val_dataset = PrecomputedDifferenceDataset(val_dataset)\n",
    "val_dataloader = DataLoader(val_dataset, batch_size=16, shuffle=True)\n",
    "test_dataset = PrecomputedTestDifferenceDataset(test_dataset)\n",
    "test_dataloader = DataLoader(test_dataset, batch_size=16, shuffle=False)"
   ]
  },
  {
   "cell_type": "markdown",
   "id": "91f51962-5fd7-4296-97ce-82b48f94216d",
   "metadata": {},
   "source": [
    "### Bidirectional LSTM Model"
   ]
  },
  {
   "cell_type": "code",
   "execution_count": 86,
   "id": "c8c6f475-eb6b-4795-ae25-363a7bac0e0a",
   "metadata": {},
   "outputs": [],
   "source": [
    "class BiLSTMForDifferences(nn.Module):\n",
    "    def __init__(self, input_dim, hidden_dim, output_dim):\n",
    "        super(BiLSTMForDifferences, self).__init__()\n",
    "        self.lstm = nn.LSTM(input_dim, hidden_dim, bidirectional=True, batch_first=True)\n",
    "        self.fc = nn.Linear(hidden_dim * 2, output_dim)\n",
    "        self.dropout = nn.Dropout(0.5)\n",
    "\n",
    "    def save_pretrained(self, save_directory):\n",
    "        self.base_model.save_pretrained(save_directory)\n",
    "        torch.save(self.classifier.state_dict(), f\"{save_directory}/classifier.pth\")\n",
    "\n",
    "    def forward(self, differences, labels=None):\n",
    "        differences = differences.unsqueeze(1)\n",
    "        lstm_out, _ = self.lstm(differences)\n",
    "        lstm_out_cat = torch.cat((lstm_out[:, -1, :lstm_out.shape[2] // 2], lstm_out[:, 0, lstm_out.shape[2] // 2:]), dim=1)\n",
    "\n",
    "        logits = self.fc(self.dropout(lstm_out_cat))\n",
    "\n",
    "        loss = None\n",
    "        if labels is not None:\n",
    "            loss_fn = nn.CrossEntropyLoss()\n",
    "            loss = loss_fn(logits, labels)\n",
    "\n",
    "        return {\"loss\": loss, \"logits\": logits} if loss is not None else {\"logits\": logits}\n"
   ]
  },
  {
   "cell_type": "code",
   "execution_count": 77,
   "id": "0346bb53-5b08-4ed2-a92d-8485063ec95f",
   "metadata": {},
   "outputs": [],
   "source": [
    "def evaluate(model, dataloader, device):\n",
    "    model.eval()\n",
    "    all_preds = []\n",
    "    all_labels = []\n",
    "    with torch.no_grad():\n",
    "        for batch in dataloader:\n",
    "            inputs = batch[\"difference\"].to(device)\n",
    "            labels = batch[\"labels\"].to(device)\n",
    "\n",
    "            outputs = model(inputs)\n",
    "            logits = outputs[\"logits\"]  # Pass the inputs directly\n",
    "            preds = torch.argmax(logits, dim=1)\n",
    "            all_preds.extend(preds.cpu().numpy())\n",
    "            all_labels.extend(labels.cpu().numpy())\n",
    "\n",
    "    accuracy = accuracy_score(all_labels, all_preds)\n",
    "    precision, recall, f1, _ = precision_recall_fscore_support(\n",
    "        all_labels, all_preds, average=\"binary\"\n",
    "    )\n",
    "    return {\n",
    "        \"accuracy\": accuracy,\n",
    "        \"precision\": precision,\n",
    "        \"recall\": recall,\n",
    "        \"f1\": f1\n",
    "    }\n"
   ]
  },
  {
   "cell_type": "code",
   "execution_count": 82,
   "id": "84db27d9-8ef2-4eb9-b916-c1fec3e0bb0f",
   "metadata": {},
   "outputs": [],
   "source": [
    "def train(model, train_dataloader, val_dataloader, epochs, device):\n",
    "    optimizer = torch.optim.Adam(model.parameters(), lr=2e-5)\n",
    "    loss_fn = torch.nn.CrossEntropyLoss()\n",
    "\n",
    "    for epoch in range(epochs):\n",
    "        model.train()\n",
    "\n",
    "        total_loss = 0\n",
    "        for batch in train_dataloader:\n",
    "            inputs = batch[\"difference\"].to(device)\n",
    "            labels = batch[\"labels\"].to(device)\n",
    "\n",
    "            optimizer.zero_grad()\n",
    "\n",
    "            outputs = model(inputs)  # Pass the embeddings (differences)\n",
    "            logits = outputs[\"logits\"]\n",
    "            loss = loss_fn(logits, labels)\n",
    "\n",
    "            loss.backward()\n",
    "            optimizer.step()\n",
    "\n",
    "            total_loss += loss.item()\n",
    "\n",
    "        avg_loss = total_loss / len(train_dataloader)\n",
    "        print(f\"Epoch {epoch + 1}/{epochs}, Training Loss: {avg_loss:.4f}\")\n",
    "        scores = evaluate(model, val_dataloader, device)\n",
    "        print(f\"Epoch {epoch + 1}/{epochs}, Validation Accuracy: {scores['accuracy']:.4f}\")\n",
    "        print(f\"Epoch {epoch + 1}/{epochs}, Precision: {scores['precision']:.4f}\")\n",
    "        print(f\"Epoch {epoch + 1}/{epochs}, Recall: {scores['recall']:.4f}\")\n",
    "        print(f\"Epoch {epoch + 1}/{epochs}, F1 Score: {scores['f1']:.4f}\")\n",
    "\n",
    "\n",
    "input_dim = train_dataset[0][\"difference\"].shape[0]  # Dimensionality of difference embeddings\n",
    "hidden_dim = 256\n",
    "output_dim = 2\n",
    "\n",
    "bilstm_model = BiLSTMForDifferences(input_dim, hidden_dim, output_dim).to(\"cuda\")"
   ]
  },
  {
   "cell_type": "code",
   "execution_count": 96,
   "id": "cc775271-6fe1-45ee-8f21-272db71be22b",
   "metadata": {},
   "outputs": [
    {
     "name": "stdout",
     "output_type": "stream",
     "text": [
      "Epoch 1/3, Training Loss: 0.1143\n",
      "Epoch 1/3, Validation Accuracy: 0.9622\n",
      "Epoch 1/3, Precision: 0.9632\n",
      "Epoch 1/3, Recall: 0.9614\n",
      "Epoch 1/3, F1 Score: 0.9623\n",
      "Epoch 2/3, Training Loss: 0.1124\n",
      "Epoch 2/3, Validation Accuracy: 0.9626\n",
      "Epoch 2/3, Precision: 0.9634\n",
      "Epoch 2/3, Recall: 0.9619\n",
      "Epoch 2/3, F1 Score: 0.9626\n",
      "Epoch 3/3, Training Loss: 0.1108\n",
      "Epoch 3/3, Validation Accuracy: 0.9638\n",
      "Epoch 3/3, Precision: 0.9670\n",
      "Epoch 3/3, Recall: 0.9606\n",
      "Epoch 3/3, F1 Score: 0.9638\n"
     ]
    }
   ],
   "source": [
    "train(bilstm_model, train_dataloader, val_dataloader, epochs=3, device=\"cuda\")"
   ]
  },
  {
   "cell_type": "markdown",
   "id": "e4d3e3dc-9f81-42a9-aa67-1ee2403837a2",
   "metadata": {},
   "source": [
    "### Generating Predictions"
   ]
  },
  {
   "cell_type": "code",
   "execution_count": 113,
   "id": "f6bec94c-8f84-453b-8466-9f2a6c370c04",
   "metadata": {},
   "outputs": [],
   "source": [
    "def generate_predictions(model, dataloader, device):\n",
    "    model.eval()\n",
    "    all_preds = []\n",
    "\n",
    "    with torch.no_grad():\n",
    "        for batch in dataloader:\n",
    "            inputs = batch[\"difference\"].to(device)\n",
    "\n",
    "            outputs = model(inputs)\n",
    "            logits = outputs[\"logits\"]\n",
    "            preds = torch.argmax(logits, dim=1)\n",
    "            all_preds.extend(preds.cpu().numpy())\n",
    "\n",
    "    return all_preds"
   ]
  },
  {
   "cell_type": "code",
   "execution_count": null,
   "id": "c45e1997-d109-4a8c-b913-d591c0c35460",
   "metadata": {},
   "outputs": [],
   "source": [
    "test_preds = generate_predictions(bilstm_model, test_dataloader, device=\"cuda\")\n",
    "output_df = pd.DataFrame({\n",
    "    \"Predicted\": test_preds\n",
    "})\n",
    "output_df['Predicted'] = = output_df['Predicted'].replace({0:\"A\",1:\"B\"})\n",
    "output_df[\"Predicted\"].to_csv(\"part1.txt\", index=False, header=False)"
   ]
  }
 ],
 "metadata": {
  "colab": {
   "provenance": []
  },
  "kernelspec": {
   "display_name": "Python 3 (ipykernel)",
   "language": "python",
   "name": "python3"
  },
  "language_info": {
   "codemirror_mode": {
    "name": "ipython",
    "version": 3
   },
   "file_extension": ".py",
   "mimetype": "text/x-python",
   "name": "python",
   "nbconvert_exporter": "python",
   "pygments_lexer": "ipython3",
   "version": "3.9.20"
  },
  "widgets": {
   "application/vnd.jupyter.widget-state+json": {
    "0a385611f1eb4ae688c8582a187a0f96": {
     "model_module": "@jupyter-widgets/base",
     "model_module_version": "1.2.0",
     "model_name": "LayoutModel",
     "state": {
      "_model_module": "@jupyter-widgets/base",
      "_model_module_version": "1.2.0",
      "_model_name": "LayoutModel",
      "_view_count": null,
      "_view_module": "@jupyter-widgets/base",
      "_view_module_version": "1.2.0",
      "_view_name": "LayoutView",
      "align_content": null,
      "align_items": null,
      "align_self": null,
      "border": null,
      "bottom": null,
      "display": null,
      "flex": null,
      "flex_flow": null,
      "grid_area": null,
      "grid_auto_columns": null,
      "grid_auto_flow": null,
      "grid_auto_rows": null,
      "grid_column": null,
      "grid_gap": null,
      "grid_row": null,
      "grid_template_areas": null,
      "grid_template_columns": null,
      "grid_template_rows": null,
      "height": null,
      "justify_content": null,
      "justify_items": null,
      "left": null,
      "margin": null,
      "max_height": null,
      "max_width": null,
      "min_height": null,
      "min_width": null,
      "object_fit": null,
      "object_position": null,
      "order": null,
      "overflow": null,
      "overflow_x": null,
      "overflow_y": null,
      "padding": null,
      "right": null,
      "top": null,
      "visibility": null,
      "width": null
     }
    },
    "16639962d4254888bc01595172265302": {
     "model_module": "@jupyter-widgets/controls",
     "model_module_version": "1.5.0",
     "model_name": "DescriptionStyleModel",
     "state": {
      "_model_module": "@jupyter-widgets/controls",
      "_model_module_version": "1.5.0",
      "_model_name": "DescriptionStyleModel",
      "_view_count": null,
      "_view_module": "@jupyter-widgets/base",
      "_view_module_version": "1.2.0",
      "_view_name": "StyleView",
      "description_width": ""
     }
    },
    "3cc451416f6842c7977c199e43070a83": {
     "model_module": "@jupyter-widgets/controls",
     "model_module_version": "1.5.0",
     "model_name": "HBoxModel",
     "state": {
      "_dom_classes": [],
      "_model_module": "@jupyter-widgets/controls",
      "_model_module_version": "1.5.0",
      "_model_name": "HBoxModel",
      "_view_count": null,
      "_view_module": "@jupyter-widgets/controls",
      "_view_module_version": "1.5.0",
      "_view_name": "HBoxView",
      "box_style": "",
      "children": [
       "IPY_MODEL_e8da094febee4a12a6d3f8022623fcd3",
       "IPY_MODEL_5853abb7fe7443f2a5c0d616e48fa8d1",
       "IPY_MODEL_58fcec7cebb74f84b5f153c9769797d3"
      ],
      "layout": "IPY_MODEL_cad6181c2ec04589b7ba5d3ae0892744"
     }
    },
    "57d4241f9f9c4824ad08dac154672ca6": {
     "model_module": "@jupyter-widgets/base",
     "model_module_version": "1.2.0",
     "model_name": "LayoutModel",
     "state": {
      "_model_module": "@jupyter-widgets/base",
      "_model_module_version": "1.2.0",
      "_model_name": "LayoutModel",
      "_view_count": null,
      "_view_module": "@jupyter-widgets/base",
      "_view_module_version": "1.2.0",
      "_view_name": "LayoutView",
      "align_content": null,
      "align_items": null,
      "align_self": null,
      "border": null,
      "bottom": null,
      "display": null,
      "flex": null,
      "flex_flow": null,
      "grid_area": null,
      "grid_auto_columns": null,
      "grid_auto_flow": null,
      "grid_auto_rows": null,
      "grid_column": null,
      "grid_gap": null,
      "grid_row": null,
      "grid_template_areas": null,
      "grid_template_columns": null,
      "grid_template_rows": null,
      "height": null,
      "justify_content": null,
      "justify_items": null,
      "left": null,
      "margin": null,
      "max_height": null,
      "max_width": null,
      "min_height": null,
      "min_width": null,
      "object_fit": null,
      "object_position": null,
      "order": null,
      "overflow": null,
      "overflow_x": null,
      "overflow_y": null,
      "padding": null,
      "right": null,
      "top": null,
      "visibility": null,
      "width": null
     }
    },
    "5853abb7fe7443f2a5c0d616e48fa8d1": {
     "model_module": "@jupyter-widgets/controls",
     "model_module_version": "1.5.0",
     "model_name": "FloatProgressModel",
     "state": {
      "_dom_classes": [],
      "_model_module": "@jupyter-widgets/controls",
      "_model_module_version": "1.5.0",
      "_model_name": "FloatProgressModel",
      "_view_count": null,
      "_view_module": "@jupyter-widgets/controls",
      "_view_module_version": "1.5.0",
      "_view_name": "ProgressView",
      "bar_style": "",
      "description": "",
      "description_tooltip": null,
      "layout": "IPY_MODEL_0a385611f1eb4ae688c8582a187a0f96",
      "max": 500,
      "min": 0,
      "orientation": "horizontal",
      "style": "IPY_MODEL_dabb4d937bd04f61aa5f0bb0634347e9",
      "value": 0
     }
    },
    "58fcec7cebb74f84b5f153c9769797d3": {
     "model_module": "@jupyter-widgets/controls",
     "model_module_version": "1.5.0",
     "model_name": "HTMLModel",
     "state": {
      "_dom_classes": [],
      "_model_module": "@jupyter-widgets/controls",
      "_model_module_version": "1.5.0",
      "_model_name": "HTMLModel",
      "_view_count": null,
      "_view_module": "@jupyter-widgets/controls",
      "_view_module_version": "1.5.0",
      "_view_name": "HTMLView",
      "description": "",
      "description_tooltip": null,
      "layout": "IPY_MODEL_c6b631135eca4434816997d5e7e9fa69",
      "placeholder": "​",
      "style": "IPY_MODEL_16639962d4254888bc01595172265302",
      "value": " 0/500 [00:00&lt;?, ? examples/s]"
     }
    },
    "6c033db5d7bc4db8b23c2d8cfa268963": {
     "model_module": "@jupyter-widgets/controls",
     "model_module_version": "1.5.0",
     "model_name": "DescriptionStyleModel",
     "state": {
      "_model_module": "@jupyter-widgets/controls",
      "_model_module_version": "1.5.0",
      "_model_name": "DescriptionStyleModel",
      "_view_count": null,
      "_view_module": "@jupyter-widgets/base",
      "_view_module_version": "1.2.0",
      "_view_name": "StyleView",
      "description_width": ""
     }
    },
    "c6b631135eca4434816997d5e7e9fa69": {
     "model_module": "@jupyter-widgets/base",
     "model_module_version": "1.2.0",
     "model_name": "LayoutModel",
     "state": {
      "_model_module": "@jupyter-widgets/base",
      "_model_module_version": "1.2.0",
      "_model_name": "LayoutModel",
      "_view_count": null,
      "_view_module": "@jupyter-widgets/base",
      "_view_module_version": "1.2.0",
      "_view_name": "LayoutView",
      "align_content": null,
      "align_items": null,
      "align_self": null,
      "border": null,
      "bottom": null,
      "display": null,
      "flex": null,
      "flex_flow": null,
      "grid_area": null,
      "grid_auto_columns": null,
      "grid_auto_flow": null,
      "grid_auto_rows": null,
      "grid_column": null,
      "grid_gap": null,
      "grid_row": null,
      "grid_template_areas": null,
      "grid_template_columns": null,
      "grid_template_rows": null,
      "height": null,
      "justify_content": null,
      "justify_items": null,
      "left": null,
      "margin": null,
      "max_height": null,
      "max_width": null,
      "min_height": null,
      "min_width": null,
      "object_fit": null,
      "object_position": null,
      "order": null,
      "overflow": null,
      "overflow_x": null,
      "overflow_y": null,
      "padding": null,
      "right": null,
      "top": null,
      "visibility": null,
      "width": null
     }
    },
    "cad6181c2ec04589b7ba5d3ae0892744": {
     "model_module": "@jupyter-widgets/base",
     "model_module_version": "1.2.0",
     "model_name": "LayoutModel",
     "state": {
      "_model_module": "@jupyter-widgets/base",
      "_model_module_version": "1.2.0",
      "_model_name": "LayoutModel",
      "_view_count": null,
      "_view_module": "@jupyter-widgets/base",
      "_view_module_version": "1.2.0",
      "_view_name": "LayoutView",
      "align_content": null,
      "align_items": null,
      "align_self": null,
      "border": null,
      "bottom": null,
      "display": null,
      "flex": null,
      "flex_flow": null,
      "grid_area": null,
      "grid_auto_columns": null,
      "grid_auto_flow": null,
      "grid_auto_rows": null,
      "grid_column": null,
      "grid_gap": null,
      "grid_row": null,
      "grid_template_areas": null,
      "grid_template_columns": null,
      "grid_template_rows": null,
      "height": null,
      "justify_content": null,
      "justify_items": null,
      "left": null,
      "margin": null,
      "max_height": null,
      "max_width": null,
      "min_height": null,
      "min_width": null,
      "object_fit": null,
      "object_position": null,
      "order": null,
      "overflow": null,
      "overflow_x": null,
      "overflow_y": null,
      "padding": null,
      "right": null,
      "top": null,
      "visibility": null,
      "width": null
     }
    },
    "dabb4d937bd04f61aa5f0bb0634347e9": {
     "model_module": "@jupyter-widgets/controls",
     "model_module_version": "1.5.0",
     "model_name": "ProgressStyleModel",
     "state": {
      "_model_module": "@jupyter-widgets/controls",
      "_model_module_version": "1.5.0",
      "_model_name": "ProgressStyleModel",
      "_view_count": null,
      "_view_module": "@jupyter-widgets/base",
      "_view_module_version": "1.2.0",
      "_view_name": "StyleView",
      "bar_color": null,
      "description_width": ""
     }
    },
    "e8da094febee4a12a6d3f8022623fcd3": {
     "model_module": "@jupyter-widgets/controls",
     "model_module_version": "1.5.0",
     "model_name": "HTMLModel",
     "state": {
      "_dom_classes": [],
      "_model_module": "@jupyter-widgets/controls",
      "_model_module_version": "1.5.0",
      "_model_name": "HTMLModel",
      "_view_count": null,
      "_view_module": "@jupyter-widgets/controls",
      "_view_module_version": "1.5.0",
      "_view_name": "HTMLView",
      "description": "",
      "description_tooltip": null,
      "layout": "IPY_MODEL_57d4241f9f9c4824ad08dac154672ca6",
      "placeholder": "​",
      "style": "IPY_MODEL_6c033db5d7bc4db8b23c2d8cfa268963",
      "value": "Map:   0%"
     }
    }
   }
  }
 },
 "nbformat": 4,
 "nbformat_minor": 5
}
